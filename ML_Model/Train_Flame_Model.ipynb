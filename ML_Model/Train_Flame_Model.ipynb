{
 "cells": [
  {
   "cell_type": "code",
   "execution_count": 5,
   "id": "c66138b4",
   "metadata": {},
   "outputs": [
    {
     "data": {
      "text/html": [
       "<div>\n",
       "<style scoped>\n",
       "    .dataframe tbody tr th:only-of-type {\n",
       "        vertical-align: middle;\n",
       "    }\n",
       "\n",
       "    .dataframe tbody tr th {\n",
       "        vertical-align: top;\n",
       "    }\n",
       "\n",
       "    .dataframe thead th {\n",
       "        text-align: right;\n",
       "    }\n",
       "</style>\n",
       "<table border=\"1\" class=\"dataframe\">\n",
       "  <thead>\n",
       "    <tr style=\"text-align: right;\">\n",
       "      <th></th>\n",
       "      <th>Flame Current (uA)</th>\n",
       "      <th>Flame Level</th>\n",
       "    </tr>\n",
       "  </thead>\n",
       "  <tbody>\n",
       "    <tr>\n",
       "      <th>0</th>\n",
       "      <td>89.93</td>\n",
       "      <td>No Flame</td>\n",
       "    </tr>\n",
       "    <tr>\n",
       "      <th>1</th>\n",
       "      <td>52.30</td>\n",
       "      <td>No Flame</td>\n",
       "    </tr>\n",
       "    <tr>\n",
       "      <th>2</th>\n",
       "      <td>19.55</td>\n",
       "      <td>Mid Flame</td>\n",
       "    </tr>\n",
       "    <tr>\n",
       "      <th>3</th>\n",
       "      <td>17.11</td>\n",
       "      <td>Mid Flame</td>\n",
       "    </tr>\n",
       "    <tr>\n",
       "      <th>4</th>\n",
       "      <td>17.11</td>\n",
       "      <td>Mid Flame</td>\n",
       "    </tr>\n",
       "  </tbody>\n",
       "</table>\n",
       "</div>"
      ],
      "text/plain": [
       "   Flame Current (uA) Flame Level\n",
       "0               89.93    No Flame\n",
       "1               52.30    No Flame\n",
       "2               19.55   Mid Flame\n",
       "3               17.11   Mid Flame\n",
       "4               17.11   Mid Flame"
      ]
     },
     "execution_count": 5,
     "metadata": {},
     "output_type": "execute_result"
    }
   ],
   "source": [
    "# Load Data\n",
    "import pandas as pd\n",
    "\n",
    "# Load dataset\n",
    "data = pd.read_csv('flame_current.csv')\n",
    "\n",
    "# Show first few rows\n",
    "data.head()\n"
   ]
  },
  {
   "cell_type": "code",
   "execution_count": 6,
   "id": "628dc2c6",
   "metadata": {},
   "outputs": [
    {
     "name": "stdout",
     "output_type": "stream",
     "text": [
      "Cleaned rows: 1973\n",
      "  Flame (microampere) Flame Level\n",
      "1               89.93    No Flame\n",
      "2                52.3    No Flame\n",
      "3               19.55   Mid Flame\n",
      "4               17.11   Mid Flame\n",
      "5               17.11   Mid Flame\n",
      "Saved Flame_Data.csv!\n"
     ]
    }
   ],
   "source": [
    "# Clean the Data\n",
    "import pandas as pd\n",
    "import re\n",
    "\n",
    "# STEP 1: Load the raw CSV\n",
    "raw_data = pd.read_csv(\"flame_current.csv\", header=None)\n",
    "\n",
    "# STEP 2: Fix missing headers if needed\n",
    "if raw_data.shape[1] == 1:\n",
    "    # Data is corrupted; try splitting on tab, space, or mixed\n",
    "    raw_data = raw_data[0].str.extract(r'([\\d.]+)[,\\t ]+([a-zA-Z ]+)')\n",
    "\n",
    "# Rename columns\n",
    "raw_data.columns = ['Flame (microampere)', 'Flame Level']\n",
    "\n",
    "# STEP 3: Remove spaces and non-letter characters from labels\n",
    "raw_data['Flame Level'] = raw_data['Flame Level'].str.strip()\n",
    "raw_data['Flame Level'] = raw_data['Flame Level'].str.replace(r'[^a-zA-Z ]', '', regex=True)\n",
    "raw_data['Flame Level'] = raw_data['Flame Level'].str.replace(r'\\s+', ' ', regex=True)\n",
    "\n",
    "# STEP 4: Remove junk labels (typos)\n",
    "valid_labels = ['No Flame', 'Low Flame', 'Mid Flame', 'High Flame']\n",
    "clean_data = raw_data[raw_data['Flame Level'].isin(valid_labels)]\n",
    "\n",
    "# STEP 5: Convert the current to float\n",
    "clean_data.loc[:, 'Flame (microampere)'] = pd.to_numeric(clean_data['Flame (microampere)'], errors='coerce')\n",
    "\n",
    "# Drop rows with missing or invalid data\n",
    "clean_data = clean_data.dropna()\n",
    "\n",
    "# Show cleaned data\n",
    "print(\"Cleaned rows:\", len(clean_data))\n",
    "print(clean_data.head())\n",
    "\n",
    "# STEP 6: Save to a new clean CSV\n",
    "clean_data.to_csv(\"Flame_Data.csv\", index=False)\n",
    "print(\"Saved Flame_Data.csv!\")\n"
   ]
  },
  {
   "cell_type": "code",
   "execution_count": 7,
   "id": "82851674",
   "metadata": {},
   "outputs": [
    {
     "name": "stdout",
     "output_type": "stream",
     "text": [
      "      Flame (microampere) Flame Level\n",
      "0                   89.93    No Flame\n",
      "1                   52.30    No Flame\n",
      "2                   19.55   Mid Flame\n",
      "3                   17.11   Mid Flame\n",
      "4                   17.11   Mid Flame\n",
      "...                   ...         ...\n",
      "1968                13.20  High Flame\n",
      "1969                13.69  High Flame\n",
      "1970                13.69  High Flame\n",
      "1971                13.69  High Flame\n",
      "1972                15.15   Mid Flame\n",
      "\n",
      "[1973 rows x 2 columns]\n"
     ]
    }
   ],
   "source": [
    "data = pd.read_csv(\"Flame_Data.csv\")\n",
    "print(data)"
   ]
  },
  {
   "cell_type": "code",
   "execution_count": 8,
   "id": "aaf27ed3",
   "metadata": {},
   "outputs": [
    {
     "name": "stdout",
     "output_type": "stream",
     "text": [
      "Flame Levels: ['No Flame' 'Mid Flame' 'High Flame' 'Low Flame']\n"
     ]
    },
    {
     "data": {
      "image/png": "[encoded data removed]",
      "text/plain": [
       "<Figure size 800x400 with 1 Axes>"
      ]
     },
     "metadata": {},
     "output_type": "display_data"
    }
   ],
   "source": [
    "# Visualize and Check Data\n",
    "import matplotlib.pyplot as plt\n",
    "\n",
    "# Check unique labels\n",
    "print(\"Flame Levels:\", data['Flame Level'].unique())\n",
    "\n",
    "# Plot\n",
    "plt.figure(figsize=(8,4))\n",
    "for level in data['Flame Level'].unique():\n",
    "    subset = data[data['Flame Level'] == level]\n",
    "    plt.hist(subset['Flame (microampere)'], label=level, bins=20, alpha=0.6)\n",
    "plt.xlabel(\"Flame (microampere)\")\n",
    "plt.ylabel(\"Count\")\n",
    "plt.legend()\n",
    "plt.title(\"Flame Intensity Distribution\")\n",
    "plt.show()\n"
   ]
  },
  {
   "cell_type": "code",
   "execution_count": 10,
   "id": "11d89ddc",
   "metadata": {},
   "outputs": [
    {
     "name": "stdout",
     "output_type": "stream",
     "text": [
      "Label encoding used: {'No Flame': 0, 'Low Flame': 1, 'Mid Flame': 2, 'High Flame': 3}\n"
     ]
    }
   ],
   "source": [
    "# Preprocess & Label Encode\n",
    "custom_mapping = {\n",
    "    'No Flame': 0,\n",
    "    'Low Flame': 1,\n",
    "    'Mid Flame': 2,\n",
    "    'High Flame': 3\n",
    "}\n",
    "\n",
    "# Apply the mapping\n",
    "data['Label'] = data['Flame Level'].map(custom_mapping)\n",
    "\n",
    "# Features and target\n",
    "X = data[['Flame (microampere)']]\n",
    "y = data['Label']\n",
    "\n",
    "# View encoding\n",
    "print(\"Label encoding used:\", custom_mapping)"
   ]
  },
  {
   "cell_type": "code",
   "execution_count": 16,
   "id": "e91882c6",
   "metadata": {},
   "outputs": [],
   "source": [
    "from sklearn.preprocessing import LabelEncoder\n",
    "\n",
    "# Use LabelEncoder\n",
    "le = LabelEncoder()\n",
    "data['Label'] = le.fit_transform(data['Flame Level'])\n",
    "\n",
    "# Features and target\n",
    "X = data[['Flame (microampere)']]\n",
    "y = data['Label']\n"
   ]
  },
  {
   "cell_type": "code",
   "execution_count": 17,
   "id": "aca19425",
   "metadata": {},
   "outputs": [
    {
     "name": "stdout",
     "output_type": "stream",
     "text": [
      "Tuned Model Accuracy: 100.00%\n",
      "              precision    recall  f1-score   support\n",
      "\n",
      "    No Flame       1.00      1.00      1.00        41\n",
      "   Low Flame       1.00      1.00      1.00        27\n",
      "   Mid Flame       1.00      1.00      1.00       218\n",
      "  High Flame       1.00      1.00      1.00       109\n",
      "\n",
      "    accuracy                           1.00       395\n",
      "   macro avg       1.00      1.00      1.00       395\n",
      "weighted avg       1.00      1.00      1.00       395\n",
      "\n"
     ]
    }
   ],
   "source": [
    "# Hyperparameter Tuning and Training\n",
    "from sklearn.tree import DecisionTreeClassifier\n",
    "from sklearn.model_selection import train_test_split, GridSearchCV\n",
    "from sklearn.metrics import classification_report, accuracy_score\n",
    "\n",
    "# Split data\n",
    "X_train, X_test, y_train, y_test = train_test_split(X, y, test_size=0.2, random_state=42)\n",
    "\n",
    "# Define parameter grid\n",
    "param_grid = {\n",
    "    'max_depth': [2, 3, 5, 10, None],\n",
    "    'min_samples_split': [2, 5, 10],\n",
    "    'criterion': ['gini', 'entropy']\n",
    "}\n",
    "\n",
    "# Create base model\n",
    "dt = DecisionTreeClassifier()\n",
    "\n",
    "# Grid search with 5-fold cross-validation\n",
    "grid_search = GridSearchCV(estimator=dt, param_grid=param_grid, cv=5, scoring='accuracy')\n",
    "\n",
    "# Fit to training data\n",
    "grid_search.fit(X_train, y_train)\n",
    "\n",
    "# Best model from search\n",
    "best_model = grid_search.best_estimator_\n",
    "\n",
    "# Predict and Evaluate\n",
    "y_pred = best_model.predict(X_test)\n",
    "accuracy = accuracy_score(y_test, y_pred)\n",
    "print(f\"Tuned Model Accuracy: {accuracy * 100:.2f}%\")\n",
    "\n",
    "target_names = ['No Flame', 'Low Flame', 'Mid Flame', 'High Flame']\n",
    "print(classification_report(y_test, y_pred, target_names=target_names))\n"
   ]
  },
  {
   "cell_type": "code",
   "execution_count": 18,
   "id": "04bcaf0b",
   "metadata": {},
   "outputs": [
    {
     "name": "stdout",
     "output_type": "stream",
     "text": [
      "Model saved!\n"
     ]
    }
   ],
   "source": [
    "# Save the Model\n",
    "import joblib\n",
    "\n",
    "# Save model and label encoder\n",
    "joblib.dump(model, 'flame_model.pkl')\n",
    "joblib.dump(le, 'label_encoder.pkl')\n",
    "\n",
    "print(\"Model saved!\")\n"
   ]
  },
  {
   "cell_type": "code",
   "execution_count": 19,
   "id": "453925d8",
   "metadata": {},
   "outputs": [
    {
     "name": "stdout",
     "output_type": "stream",
     "text": [
      "Prediction for 22.5 µA → Mid Flame\n"
     ]
    }
   ],
   "source": [
    "# Test on a sample microampere reading\n",
    "import pandas as pd\n",
    "\n",
    "sample = pd.DataFrame([[22.5]], columns=['Flame (microampere)'])\n",
    "pred = model.predict(sample)\n",
    "\n",
    "# Decode using custom mapping\n",
    "inverse_mapping = {v: k for k, v in custom_mapping.items()}\n",
    "label = inverse_mapping[pred[0]]\n",
    "\n",
    "print(f\"Prediction for {sample.iloc[0,0]} µA → {label}\")"
   ]
  },
  {
   "cell_type": "code",
   "execution_count": 24,
   "id": "be0b52f7",
   "metadata": {},
   "outputs": [],
   "source": [
    "# No need of this Block\n",
    "\n",
    "# Convert your dataset into TensorFlow format\n",
    "import pandas as pd\n",
    "import tensorflow as tf\n",
    "from sklearn.model_selection import train_test_split\n",
    "\n",
    "# Load clean data\n",
    "data = pd.read_csv(\"Flame_Data.csv\")\n",
    "\n",
    "# Custom label mapping\n",
    "label_map = {'No Flame': 0, 'Low Flame': 1, 'Mid Flame': 2, 'High Flame': 3}\n",
    "data['Label'] = data['Flame Level'].map(label_map)\n",
    "\n",
    "X = data[['Flame (microampere)']].values\n",
    "y = data['Label'].values\n",
    "\n",
    "# Train-test split\n",
    "X_train, X_test, y_train, y_test = train_test_split(X, y, test_size=0.2)\n"
   ]
  },
  {
   "cell_type": "code",
   "execution_count": 25,
   "id": "53c732af",
   "metadata": {},
   "outputs": [
    {
     "name": "stderr",
     "output_type": "stream",
     "text": [
      "C:\\Users\\misti\\anaconda3\\Lib\\site-packages\\keras\\src\\layers\\core\\dense.py:87: UserWarning: Do not pass an `input_shape`/`input_dim` argument to a layer. When using Sequential models, prefer using an `Input(shape)` object as the first layer in the model instead.\n",
      "  super().__init__(activity_regularizer=activity_regularizer, **kwargs)\n"
     ]
    },
    {
     "name": "stdout",
     "output_type": "stream",
     "text": [
      "Epoch 1/50\n",
      "\u001b[1m50/50\u001b[0m \u001b[32m━━━━━━━━━━━━━━━━━━━━\u001b[0m\u001b[37m\u001b[0m \u001b[1m3s\u001b[0m 10ms/step - accuracy: 0.4799 - loss: 8.7332 - val_accuracy: 0.2835 - val_loss: 2.7958\n",
      "Epoch 2/50\n",
      "\u001b[1m50/50\u001b[0m \u001b[32m━━━━━━━━━━━━━━━━━━━━\u001b[0m\u001b[37m\u001b[0m \u001b[1m0s\u001b[0m 4ms/step - accuracy: 0.4482 - loss: 2.4925 - val_accuracy: 0.7316 - val_loss: 1.8418\n",
      "Epoch 3/50\n",
      "\u001b[1m50/50\u001b[0m \u001b[32m━━━━━━━━━━━━━━━━━━━━\u001b[0m\u001b[37m\u001b[0m \u001b[1m0s\u001b[0m 4ms/step - accuracy: 0.7944 - loss: 1.6304 - val_accuracy: 0.7823 - val_loss: 1.4334\n",
      "Epoch 4/50\n",
      "\u001b[1m50/50\u001b[0m \u001b[32m━━━━━━━━━━━━━━━━━━━━\u001b[0m\u001b[37m\u001b[0m \u001b[1m0s\u001b[0m 4ms/step - accuracy: 0.8098 - loss: 1.3529 - val_accuracy: 0.7975 - val_loss: 1.2122\n",
      "Epoch 5/50\n",
      "\u001b[1m50/50\u001b[0m \u001b[32m━━━━━━━━━━━━━━━━━━━━\u001b[0m\u001b[37m\u001b[0m \u001b[1m0s\u001b[0m 5ms/step - accuracy: 0.8152 - loss: 1.1442 - val_accuracy: 0.7975 - val_loss: 1.0282\n",
      "Epoch 6/50\n",
      "\u001b[1m50/50\u001b[0m \u001b[32m━━━━━━━━━━━━━━━━━━━━\u001b[0m\u001b[37m\u001b[0m \u001b[1m0s\u001b[0m 3ms/step - accuracy: 0.7931 - loss: 0.9998 - val_accuracy: 0.7975 - val_loss: 0.9006\n",
      "Epoch 7/50\n",
      "\u001b[1m50/50\u001b[0m \u001b[32m━━━━━━━━━━━━━━━━━━━━\u001b[0m\u001b[37m\u001b[0m \u001b[1m0s\u001b[0m 6ms/step - accuracy: 0.8127 - loss: 0.8517 - val_accuracy: 0.7975 - val_loss: 0.8390\n",
      "Epoch 8/50\n",
      "\u001b[1m50/50\u001b[0m \u001b[32m━━━━━━━━━━━━━━━━━━━━\u001b[0m\u001b[37m\u001b[0m \u001b[1m0s\u001b[0m 4ms/step - accuracy: 0.8092 - loss: 0.7983 - val_accuracy: 0.7975 - val_loss: 0.7992\n",
      "Epoch 9/50\n",
      "\u001b[1m50/50\u001b[0m \u001b[32m━━━━━━━━━━━━━━━━━━━━\u001b[0m\u001b[37m\u001b[0m \u001b[1m0s\u001b[0m 4ms/step - accuracy: 0.8182 - loss: 0.7679 - val_accuracy: 0.7975 - val_loss: 0.7770\n",
      "Epoch 10/50\n",
      "\u001b[1m50/50\u001b[0m \u001b[32m━━━━━━━━━━━━━━━━━━━━\u001b[0m\u001b[37m\u001b[0m \u001b[1m0s\u001b[0m 4ms/step - accuracy: 0.8129 - loss: 0.7359 - val_accuracy: 0.7899 - val_loss: 0.7542\n",
      "Epoch 11/50\n",
      "\u001b[1m50/50\u001b[0m \u001b[32m━━━━━━━━━━━━━━━━━━━━\u001b[0m\u001b[37m\u001b[0m \u001b[1m0s\u001b[0m 4ms/step - accuracy: 0.8121 - loss: 0.7250 - val_accuracy: 0.7899 - val_loss: 0.7211\n",
      "Epoch 12/50\n",
      "\u001b[1m50/50\u001b[0m \u001b[32m━━━━━━━━━━━━━━━━━━━━\u001b[0m\u001b[37m\u001b[0m \u001b[1m0s\u001b[0m 5ms/step - accuracy: 0.8057 - loss: 0.6870 - val_accuracy: 0.7975 - val_loss: 0.6921\n",
      "Epoch 13/50\n",
      "\u001b[1m50/50\u001b[0m \u001b[32m━━━━━━━━━━━━━━━━━━━━\u001b[0m\u001b[37m\u001b[0m \u001b[1m0s\u001b[0m 4ms/step - accuracy: 0.8279 - loss: 0.6333 - val_accuracy: 0.7848 - val_loss: 0.6772\n",
      "Epoch 14/50\n",
      "\u001b[1m50/50\u001b[0m \u001b[32m━━━━━━━━━━━━━━━━━━━━\u001b[0m\u001b[37m\u001b[0m \u001b[1m0s\u001b[0m 3ms/step - accuracy: 0.8136 - loss: 0.6360 - val_accuracy: 0.7975 - val_loss: 0.6579\n",
      "Epoch 15/50\n",
      "\u001b[1m50/50\u001b[0m \u001b[32m━━━━━━━━━━━━━━━━━━━━\u001b[0m\u001b[37m\u001b[0m \u001b[1m0s\u001b[0m 4ms/step - accuracy: 0.8279 - loss: 0.5958 - val_accuracy: 0.7975 - val_loss: 0.6259\n",
      "Epoch 16/50\n",
      "\u001b[1m50/50\u001b[0m \u001b[32m━━━━━━━━━━━━━━━━━━━━\u001b[0m\u001b[37m\u001b[0m \u001b[1m0s\u001b[0m 3ms/step - accuracy: 0.8276 - loss: 0.5788 - val_accuracy: 0.7975 - val_loss: 0.6134\n",
      "Epoch 17/50\n",
      "\u001b[1m50/50\u001b[0m \u001b[32m━━━━━━━━━━━━━━━━━━━━\u001b[0m\u001b[37m\u001b[0m \u001b[1m0s\u001b[0m 4ms/step - accuracy: 0.8047 - loss: 0.5819 - val_accuracy: 0.7975 - val_loss: 0.5992\n",
      "Epoch 18/50\n",
      "\u001b[1m50/50\u001b[0m \u001b[32m━━━━━━━━━━━━━━━━━━━━\u001b[0m\u001b[37m\u001b[0m \u001b[1m0s\u001b[0m 3ms/step - accuracy: 0.8083 - loss: 0.5644 - val_accuracy: 0.7975 - val_loss: 0.5736\n",
      "Epoch 19/50\n",
      "\u001b[1m50/50\u001b[0m \u001b[32m━━━━━━━━━━━━━━━━━━━━\u001b[0m\u001b[37m\u001b[0m \u001b[1m0s\u001b[0m 3ms/step - accuracy: 0.8219 - loss: 0.5311 - val_accuracy: 0.7975 - val_loss: 0.5675\n",
      "Epoch 20/50\n",
      "\u001b[1m50/50\u001b[0m \u001b[32m━━━━━━━━━━━━━━━━━━━━\u001b[0m\u001b[37m\u001b[0m \u001b[1m0s\u001b[0m 3ms/step - accuracy: 0.8108 - loss: 0.5286 - val_accuracy: 0.7975 - val_loss: 0.5433\n",
      "Epoch 21/50\n",
      "\u001b[1m50/50\u001b[0m \u001b[32m━━━━━━━━━━━━━━━━━━━━\u001b[0m\u001b[37m\u001b[0m \u001b[1m0s\u001b[0m 3ms/step - accuracy: 0.8083 - loss: 0.5247 - val_accuracy: 0.7975 - val_loss: 0.5373\n",
      "Epoch 22/50\n",
      "\u001b[1m50/50\u001b[0m \u001b[32m━━━━━━━━━━━━━━━━━━━━\u001b[0m\u001b[37m\u001b[0m \u001b[1m0s\u001b[0m 3ms/step - accuracy: 0.8138 - loss: 0.4995 - val_accuracy: 0.7975 - val_loss: 0.5098\n",
      "Epoch 23/50\n",
      "\u001b[1m50/50\u001b[0m \u001b[32m━━━━━━━━━━━━━━━━━━━━\u001b[0m\u001b[37m\u001b[0m \u001b[1m0s\u001b[0m 4ms/step - accuracy: 0.8001 - loss: 0.4920 - val_accuracy: 0.7975 - val_loss: 0.4988\n",
      "Epoch 24/50\n",
      "\u001b[1m50/50\u001b[0m \u001b[32m━━━━━━━━━━━━━━━━━━━━\u001b[0m\u001b[37m\u001b[0m \u001b[1m0s\u001b[0m 3ms/step - accuracy: 0.8068 - loss: 0.4790 - val_accuracy: 0.7975 - val_loss: 0.4855\n",
      "Epoch 25/50\n",
      "\u001b[1m50/50\u001b[0m \u001b[32m━━━━━━━━━━━━━━━━━━━━\u001b[0m\u001b[37m\u001b[0m \u001b[1m0s\u001b[0m 3ms/step - accuracy: 0.8225 - loss: 0.4395 - val_accuracy: 0.7975 - val_loss: 0.4778\n",
      "Epoch 26/50\n",
      "\u001b[1m50/50\u001b[0m \u001b[32m━━━━━━━━━━━━━━━━━━━━\u001b[0m\u001b[37m\u001b[0m \u001b[1m0s\u001b[0m 3ms/step - accuracy: 0.8025 - loss: 0.4611 - val_accuracy: 0.7975 - val_loss: 0.4613\n",
      "Epoch 27/50\n",
      "\u001b[1m50/50\u001b[0m \u001b[32m━━━━━━━━━━━━━━━━━━━━\u001b[0m\u001b[37m\u001b[0m \u001b[1m0s\u001b[0m 4ms/step - accuracy: 0.8121 - loss: 0.4395 - val_accuracy: 0.7975 - val_loss: 0.4556\n",
      "Epoch 28/50\n",
      "\u001b[1m50/50\u001b[0m \u001b[32m━━━━━━━━━━━━━━━━━━━━\u001b[0m\u001b[37m\u001b[0m \u001b[1m0s\u001b[0m 3ms/step - accuracy: 0.8145 - loss: 0.4300 - val_accuracy: 0.8000 - val_loss: 0.4427\n",
      "Epoch 29/50\n",
      "\u001b[1m50/50\u001b[0m \u001b[32m━━━━━━━━━━━━━━━━━━━━\u001b[0m\u001b[37m\u001b[0m \u001b[1m0s\u001b[0m 3ms/step - accuracy: 0.8220 - loss: 0.4093 - val_accuracy: 0.8025 - val_loss: 0.4199\n",
      "Epoch 30/50\n",
      "\u001b[1m50/50\u001b[0m \u001b[32m━━━━━━━━━━━━━━━━━━━━\u001b[0m\u001b[37m\u001b[0m \u001b[1m0s\u001b[0m 5ms/step - accuracy: 0.8226 - loss: 0.3976 - val_accuracy: 0.8051 - val_loss: 0.4114\n",
      "Epoch 31/50\n",
      "\u001b[1m50/50\u001b[0m \u001b[32m━━━━━━━━━━━━━━━━━━━━\u001b[0m\u001b[37m\u001b[0m \u001b[1m0s\u001b[0m 5ms/step - accuracy: 0.8351 - loss: 0.3644 - val_accuracy: 0.8152 - val_loss: 0.3982\n",
      "Epoch 32/50\n",
      "\u001b[1m50/50\u001b[0m \u001b[32m━━━━━━━━━━━━━━━━━━━━\u001b[0m\u001b[37m\u001b[0m \u001b[1m0s\u001b[0m 4ms/step - accuracy: 0.8444 - loss: 0.3720 - val_accuracy: 0.8101 - val_loss: 0.3886\n",
      "Epoch 33/50\n",
      "\u001b[1m50/50\u001b[0m \u001b[32m━━━━━━━━━━━━━━━━━━━━\u001b[0m\u001b[37m\u001b[0m \u001b[1m0s\u001b[0m 3ms/step - accuracy: 0.8328 - loss: 0.3765 - val_accuracy: 0.8152 - val_loss: 0.3851\n",
      "Epoch 34/50\n",
      "\u001b[1m50/50\u001b[0m \u001b[32m━━━━━━━━━━━━━━━━━━━━\u001b[0m\u001b[37m\u001b[0m \u001b[1m0s\u001b[0m 3ms/step - accuracy: 0.8555 - loss: 0.3356 - val_accuracy: 0.8177 - val_loss: 0.3720\n",
      "Epoch 35/50\n",
      "\u001b[1m50/50\u001b[0m \u001b[32m━━━━━━━━━━━━━━━━━━━━\u001b[0m\u001b[37m\u001b[0m \u001b[1m0s\u001b[0m 4ms/step - accuracy: 0.8510 - loss: 0.3399 - val_accuracy: 0.8582 - val_loss: 0.3562\n",
      "Epoch 36/50\n",
      "\u001b[1m50/50\u001b[0m \u001b[32m━━━━━━━━━━━━━━━━━━━━\u001b[0m\u001b[37m\u001b[0m \u001b[1m0s\u001b[0m 4ms/step - accuracy: 0.8621 - loss: 0.3155 - val_accuracy: 0.8203 - val_loss: 0.3570\n",
      "Epoch 37/50\n",
      "\u001b[1m50/50\u001b[0m \u001b[32m━━━━━━━━━━━━━━━━━━━━\u001b[0m\u001b[37m\u001b[0m \u001b[1m0s\u001b[0m 3ms/step - accuracy: 0.8584 - loss: 0.3254 - val_accuracy: 0.8203 - val_loss: 0.3405\n",
      "Epoch 38/50\n",
      "\u001b[1m50/50\u001b[0m \u001b[32m━━━━━━━━━━━━━━━━━━━━\u001b[0m\u001b[37m\u001b[0m \u001b[1m0s\u001b[0m 3ms/step - accuracy: 0.8559 - loss: 0.3147 - val_accuracy: 0.8304 - val_loss: 0.3282\n",
      "Epoch 39/50\n",
      "\u001b[1m50/50\u001b[0m \u001b[32m━━━━━━━━━━━━━━━━━━━━\u001b[0m\u001b[37m\u001b[0m \u001b[1m0s\u001b[0m 3ms/step - accuracy: 0.8677 - loss: 0.3062 - val_accuracy: 0.8228 - val_loss: 0.3240\n",
      "Epoch 40/50\n",
      "\u001b[1m50/50\u001b[0m \u001b[32m━━━━━━━━━━━━━━━━━━━━\u001b[0m\u001b[37m\u001b[0m \u001b[1m0s\u001b[0m 3ms/step - accuracy: 0.8571 - loss: 0.2986 - val_accuracy: 0.8456 - val_loss: 0.3119\n",
      "Epoch 41/50\n",
      "\u001b[1m50/50\u001b[0m \u001b[32m━━━━━━━━━━━━━━━━━━━━\u001b[0m\u001b[37m\u001b[0m \u001b[1m0s\u001b[0m 3ms/step - accuracy: 0.8524 - loss: 0.3079 - val_accuracy: 0.8532 - val_loss: 0.3036\n",
      "Epoch 42/50\n",
      "\u001b[1m50/50\u001b[0m \u001b[32m━━━━━━━━━━━━━━━━━━━━\u001b[0m\u001b[37m\u001b[0m \u001b[1m0s\u001b[0m 3ms/step - accuracy: 0.8893 - loss: 0.2619 - val_accuracy: 0.8937 - val_loss: 0.2920\n",
      "Epoch 43/50\n",
      "\u001b[1m50/50\u001b[0m \u001b[32m━━━━━━━━━━━━━━━━━━━━\u001b[0m\u001b[37m\u001b[0m \u001b[1m0s\u001b[0m 3ms/step - accuracy: 0.8969 - loss: 0.2678 - val_accuracy: 0.8861 - val_loss: 0.2841\n",
      "Epoch 44/50\n",
      "\u001b[1m50/50\u001b[0m \u001b[32m━━━━━━━━━━━━━━━━━━━━\u001b[0m\u001b[37m\u001b[0m \u001b[1m0s\u001b[0m 3ms/step - accuracy: 0.8782 - loss: 0.2612 - val_accuracy: 0.8987 - val_loss: 0.2810\n",
      "Epoch 45/50\n",
      "\u001b[1m50/50\u001b[0m \u001b[32m━━━━━━━━━━━━━━━━━━━━\u001b[0m\u001b[37m\u001b[0m \u001b[1m0s\u001b[0m 4ms/step - accuracy: 0.8826 - loss: 0.2601 - val_accuracy: 0.8962 - val_loss: 0.2736\n",
      "Epoch 46/50\n",
      "\u001b[1m50/50\u001b[0m \u001b[32m━━━━━━━━━━━━━━━━━━━━\u001b[0m\u001b[37m\u001b[0m \u001b[1m0s\u001b[0m 3ms/step - accuracy: 0.8997 - loss: 0.2373 - val_accuracy: 0.8759 - val_loss: 0.2696\n",
      "Epoch 47/50\n",
      "\u001b[1m50/50\u001b[0m \u001b[32m━━━━━━━━━━━━━━━━━━━━\u001b[0m\u001b[37m\u001b[0m \u001b[1m0s\u001b[0m 3ms/step - accuracy: 0.8909 - loss: 0.2544 - val_accuracy: 0.8937 - val_loss: 0.2567\n",
      "Epoch 48/50\n",
      "\u001b[1m50/50\u001b[0m \u001b[32m━━━━━━━━━━━━━━━━━━━━\u001b[0m\u001b[37m\u001b[0m \u001b[1m0s\u001b[0m 3ms/step - accuracy: 0.9124 - loss: 0.2301 - val_accuracy: 0.8987 - val_loss: 0.2479\n",
      "Epoch 49/50\n",
      "\u001b[1m50/50\u001b[0m \u001b[32m━━━━━━━━━━━━━━━━━━━━\u001b[0m\u001b[37m\u001b[0m \u001b[1m0s\u001b[0m 3ms/step - accuracy: 0.8882 - loss: 0.2454 - val_accuracy: 0.8810 - val_loss: 0.2465\n",
      "Epoch 50/50\n",
      "\u001b[1m50/50\u001b[0m \u001b[32m━━━━━━━━━━━━━━━━━━━━\u001b[0m\u001b[37m\u001b[0m \u001b[1m0s\u001b[0m 4ms/step - accuracy: 0.8894 - loss: 0.2449 - val_accuracy: 0.8987 - val_loss: 0.2391\n"
     ]
    },
    {
     "data": {
      "text/plain": [
       "<keras.src.callbacks.history.History at 0x24f9ecf2850>"
      ]
     },
     "execution_count": 25,
     "metadata": {},
     "output_type": "execute_result"
    }
   ],
   "source": [
    "# No need of this Block\n",
    "\n",
    "# Build a Small Neural Network (Keras)\n",
    "from tensorflow.keras.models import Sequential\n",
    "from tensorflow.keras.layers import Dense\n",
    "\n",
    "# Build model\n",
    "model = Sequential([\n",
    "    Dense(16, input_shape=(1,), activation='relu'),\n",
    "    Dense(16, activation='relu'),\n",
    "    Dense(4, activation='softmax')  # 4 classes\n",
    "])\n",
    "\n",
    "# Compile model\n",
    "model.compile(optimizer='adam',\n",
    "              loss='sparse_categorical_crossentropy',\n",
    "              metrics=['accuracy'])\n",
    "\n",
    "# Train\n",
    "model.fit(X_train, y_train, epochs=50, validation_data=(X_test, y_test))\n",
    " "
   ]
  },
  {
   "cell_type": "code",
   "execution_count": 26,
   "id": "2575b282",
   "metadata": {},
   "outputs": [
    {
     "name": "stdout",
     "output_type": "stream",
     "text": [
      "INFO:tensorflow:Assets written to: C:\\Users\\misti\\AppData\\Local\\Temp\\tmp5vlxw0ms\\assets\n"
     ]
    },
    {
     "name": "stderr",
     "output_type": "stream",
     "text": [
      "INFO:tensorflow:Assets written to: C:\\Users\\misti\\AppData\\Local\\Temp\\tmp5vlxw0ms\\assets\n"
     ]
    },
    {
     "name": "stdout",
     "output_type": "stream",
     "text": [
      "Saved artifact at 'C:\\Users\\misti\\AppData\\Local\\Temp\\tmp5vlxw0ms'. The following endpoints are available:\n",
      "\n",
      "* Endpoint 'serve'\n",
      "  args_0 (POSITIONAL_ONLY): TensorSpec(shape=(None, 1), dtype=tf.float32, name='keras_tensor')\n",
      "Output Type:\n",
      "  TensorSpec(shape=(None, 4), dtype=tf.float32, name=None)\n",
      "Captures:\n",
      "  2540992393296: TensorSpec(shape=(), dtype=tf.resource, name=None)\n",
      "  2541001442128: TensorSpec(shape=(), dtype=tf.resource, name=None)\n",
      "  2541001444816: TensorSpec(shape=(), dtype=tf.resource, name=None)\n",
      "  2541001445776: TensorSpec(shape=(), dtype=tf.resource, name=None)\n",
      "  2541001445008: TensorSpec(shape=(), dtype=tf.resource, name=None)\n",
      "  2541001443856: TensorSpec(shape=(), dtype=tf.resource, name=None)\n"
     ]
    }
   ],
   "source": [
    "# No need of this Block\n",
    "\n",
    "# Convert to TensorFlow Lite\n",
    "# Convert to TFLite\n",
    "converter = tf.lite.TFLiteConverter.from_keras_model(model)\n",
    "tflite_model = converter.convert()\n",
    "\n",
    "# Save the .tflite model\n",
    "with open(\"Flame_Classifier.tflite\", \"wb\") as f:\n",
    "    f.write(tflite_model)\n"
   ]
  },
  {
   "cell_type": "code",
   "execution_count": null,
   "id": "d162f930",
   "metadata": {},
   "outputs": [],
   "source": []
  }
 ],
 "metadata": {
  "kernelspec": {
   "display_name": "Python 3 (ipykernel)",
   "language": "python",
   "name": "python3"
  },
  "language_info": {
   "codemirror_mode": {
    "name": "ipython",
    "version": 3
   },
   "file_extension": ".py",
   "mimetype": "text/x-python",
   "name": "python",
   "nbconvert_exporter": "python",
   "pygments_lexer": "ipython3",
   "version": "3.11.3"
  }
 },
 "nbformat": 4,
 "nbformat_minor": 5
}
